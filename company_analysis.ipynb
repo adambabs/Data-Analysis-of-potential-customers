{
 "cells": [
  {
   "cell_type": "markdown",
   "metadata": {},
   "source": [
    "## Adam Babs\n",
    "### FreeAgent Data Science - Internship\n",
    "### Task solution"
   ]
  },
  {
   "cell_type": "code",
   "execution_count": 464,
   "metadata": {},
   "outputs": [],
   "source": [
    "import os\n",
    "import pandas as pd\n",
    "import numpy as np\n",
    "import warnings\n",
    "from sklearn.model_selection import train_test_split\n",
    "warnings.simplefilter('ignore')"
   ]
  },
  {
   "cell_type": "code",
   "execution_count": 465,
   "metadata": {},
   "outputs": [],
   "source": [
    "cwd = os.getcwd()\n",
    "df = pd.read_csv(os.path.join(cwd, 'attributes_report.csv'))\n"
   ]
  },
  {
   "cell_type": "markdown",
   "metadata": {},
   "source": [
    "### Extracting data from the .log file"
   ]
  },
  {
   "cell_type": "code",
   "execution_count": 466,
   "metadata": {},
   "outputs": [],
   "source": [
    "f = open(r'C:\\Users\\Adam Babs\\Desktop\\data_FreeAgent_internship\\engagement_report.log', 'r')\n",
    "results = [line[25:26] for line in f.readlines()]\n",
    "f.close()"
   ]
  },
  {
   "cell_type": "markdown",
   "metadata": {},
   "source": [
    "### Order check (making sure that companies numbers are in order in the .log file)"
   ]
  },
  {
   "cell_type": "code",
   "execution_count": 394,
   "metadata": {},
   "outputs": [],
   "source": [
    "f = open(r'C:\\Users\\Adam Babs\\Desktop\\data_FreeAgent_internship\\engagement_report.log', 'r')\n",
    "order = [line[8:15] for line in f.readlines()]\n",
    "f.close()\n"
   ]
  },
  {
   "cell_type": "code",
   "execution_count": 462,
   "metadata": {},
   "outputs": [
    {
     "name": "stdout",
     "output_type": "stream",
     "text": [
      "Yes, List is sorted.\n"
     ]
    }
   ],
   "source": [
    "flag = 1\n",
    "i = 1\n",
    "while i < len(order): \n",
    "    if(order[i - 1] > order[i]): \n",
    "        flag = 0\n",
    "    i += 1\n",
    "      \n",
    "if (flag==1) : \n",
    "    print (\"Yes, List is sorted.\") \n",
    "else : \n",
    "    print (\"No, List is not sorted.\") "
   ]
  },
  {
   "cell_type": "markdown",
   "metadata": {},
   "source": [
    "### Calculating the number of weekly entries for each customer and adding the result to the dataframe"
   ]
  },
  {
   "cell_type": "code",
   "execution_count": 396,
   "metadata": {},
   "outputs": [],
   "source": [
    "results = [int(i) for i in results]\n",
    "weekly = [sum(results[x:x+7]) for x in range(0, len(results), 7)]\n"
   ]
  },
  {
   "cell_type": "code",
   "execution_count": 397,
   "metadata": {},
   "outputs": [],
   "source": [
    "df['weekly entries']= weekly"
   ]
  },
  {
   "cell_type": "code",
   "execution_count": 451,
   "metadata": {},
   "outputs": [
    {
     "data": {
      "text/html": [
       "<div>\n",
       "<style scoped>\n",
       "    .dataframe tbody tr th:only-of-type {\n",
       "        vertical-align: middle;\n",
       "    }\n",
       "\n",
       "    .dataframe tbody tr th {\n",
       "        vertical-align: top;\n",
       "    }\n",
       "\n",
       "    .dataframe thead th {\n",
       "        text-align: right;\n",
       "    }\n",
       "</style>\n",
       "<table border=\"1\" class=\"dataframe\">\n",
       "  <thead>\n",
       "    <tr style=\"text-align: right;\">\n",
       "      <th></th>\n",
       "      <th>company</th>\n",
       "      <th>company_type</th>\n",
       "      <th>subscribed_after_free_trial</th>\n",
       "      <th>weekly entries</th>\n",
       "    </tr>\n",
       "  </thead>\n",
       "  <tbody>\n",
       "    <tr>\n",
       "      <td>0</td>\n",
       "      <td>346782</td>\n",
       "      <td>uk_limited_company</td>\n",
       "      <td>False</td>\n",
       "      <td>3</td>\n",
       "    </tr>\n",
       "    <tr>\n",
       "      <td>1</td>\n",
       "      <td>346783</td>\n",
       "      <td>uk_limited_company</td>\n",
       "      <td>False</td>\n",
       "      <td>0</td>\n",
       "    </tr>\n",
       "    <tr>\n",
       "      <td>2</td>\n",
       "      <td>346784</td>\n",
       "      <td>uk_limited_company</td>\n",
       "      <td>True</td>\n",
       "      <td>7</td>\n",
       "    </tr>\n",
       "  </tbody>\n",
       "</table>\n",
       "</div>"
      ],
      "text/plain": [
       "   company        company_type  subscribed_after_free_trial  weekly entries\n",
       "0   346782  uk_limited_company                        False               3\n",
       "1   346783  uk_limited_company                        False               0\n",
       "2   346784  uk_limited_company                         True               7"
      ]
     },
     "execution_count": 451,
     "metadata": {},
     "output_type": "execute_result"
    }
   ],
   "source": [
    "df.head(3)"
   ]
  },
  {
   "cell_type": "markdown",
   "metadata": {},
   "source": [
    "### Examining relations between features and finding imporant information"
   ]
  },
  {
   "cell_type": "code",
   "execution_count": 399,
   "metadata": {},
   "outputs": [
    {
     "data": {
      "text/html": [
       "<div>\n",
       "<style scoped>\n",
       "    .dataframe tbody tr th:only-of-type {\n",
       "        vertical-align: middle;\n",
       "    }\n",
       "\n",
       "    .dataframe tbody tr th {\n",
       "        vertical-align: top;\n",
       "    }\n",
       "\n",
       "    .dataframe thead th {\n",
       "        text-align: right;\n",
       "    }\n",
       "</style>\n",
       "<table border=\"1\" class=\"dataframe\">\n",
       "  <thead>\n",
       "    <tr style=\"text-align: right;\">\n",
       "      <th></th>\n",
       "      <th>company</th>\n",
       "      <th>company_type</th>\n",
       "      <th>subscribed_after_free_trial</th>\n",
       "      <th>weekly entries</th>\n",
       "    </tr>\n",
       "  </thead>\n",
       "  <tbody>\n",
       "    <tr>\n",
       "      <td>14</td>\n",
       "      <td>346796</td>\n",
       "      <td>uk_limited_company</td>\n",
       "      <td>True</td>\n",
       "      <td>11</td>\n",
       "    </tr>\n",
       "    <tr>\n",
       "      <td>34</td>\n",
       "      <td>346816</td>\n",
       "      <td>uk_limited_company</td>\n",
       "      <td>True</td>\n",
       "      <td>9</td>\n",
       "    </tr>\n",
       "    <tr>\n",
       "      <td>37</td>\n",
       "      <td>346819</td>\n",
       "      <td>uk_limited_company</td>\n",
       "      <td>True</td>\n",
       "      <td>11</td>\n",
       "    </tr>\n",
       "    <tr>\n",
       "      <td>45</td>\n",
       "      <td>346827</td>\n",
       "      <td>uk_limited_company</td>\n",
       "      <td>True</td>\n",
       "      <td>11</td>\n",
       "    </tr>\n",
       "    <tr>\n",
       "      <td>52</td>\n",
       "      <td>346834</td>\n",
       "      <td>uk_limited_company</td>\n",
       "      <td>True</td>\n",
       "      <td>12</td>\n",
       "    </tr>\n",
       "    <tr>\n",
       "      <td>...</td>\n",
       "      <td>...</td>\n",
       "      <td>...</td>\n",
       "      <td>...</td>\n",
       "      <td>...</td>\n",
       "    </tr>\n",
       "    <tr>\n",
       "      <td>826</td>\n",
       "      <td>347608</td>\n",
       "      <td>uk_sole_trader</td>\n",
       "      <td>True</td>\n",
       "      <td>10</td>\n",
       "    </tr>\n",
       "    <tr>\n",
       "      <td>827</td>\n",
       "      <td>347609</td>\n",
       "      <td>uk_sole_trader</td>\n",
       "      <td>True</td>\n",
       "      <td>10</td>\n",
       "    </tr>\n",
       "    <tr>\n",
       "      <td>839</td>\n",
       "      <td>347621</td>\n",
       "      <td>uk_sole_trader</td>\n",
       "      <td>True</td>\n",
       "      <td>9</td>\n",
       "    </tr>\n",
       "    <tr>\n",
       "      <td>864</td>\n",
       "      <td>347646</td>\n",
       "      <td>universal_company</td>\n",
       "      <td>True</td>\n",
       "      <td>11</td>\n",
       "    </tr>\n",
       "    <tr>\n",
       "      <td>934</td>\n",
       "      <td>347716</td>\n",
       "      <td>universal_company</td>\n",
       "      <td>True</td>\n",
       "      <td>8</td>\n",
       "    </tr>\n",
       "  </tbody>\n",
       "</table>\n",
       "<p>93 rows × 4 columns</p>\n",
       "</div>"
      ],
      "text/plain": [
       "     company        company_type  subscribed_after_free_trial  weekly entries\n",
       "14    346796  uk_limited_company                         True              11\n",
       "34    346816  uk_limited_company                         True               9\n",
       "37    346819  uk_limited_company                         True              11\n",
       "45    346827  uk_limited_company                         True              11\n",
       "52    346834  uk_limited_company                         True              12\n",
       "..       ...                 ...                          ...             ...\n",
       "826   347608      uk_sole_trader                         True              10\n",
       "827   347609      uk_sole_trader                         True              10\n",
       "839   347621      uk_sole_trader                         True               9\n",
       "864   347646   universal_company                         True              11\n",
       "934   347716   universal_company                         True               8\n",
       "\n",
       "[93 rows x 4 columns]"
      ]
     },
     "execution_count": 399,
     "metadata": {},
     "output_type": "execute_result"
    }
   ],
   "source": [
    "df.loc[df['weekly entries'] > 7]"
   ]
  },
  {
   "cell_type": "code",
   "execution_count": 454,
   "metadata": {},
   "outputs": [
    {
     "data": {
      "text/plain": [
       "0"
      ]
     },
     "execution_count": 454,
     "metadata": {},
     "output_type": "execute_result"
    }
   ],
   "source": [
    "len(df.loc[(df['weekly entries'] > 6) & (df['subscribed_after_free_trial'] == False)])"
   ]
  },
  {
   "cell_type": "markdown",
   "metadata": {},
   "source": [
    "## In case there were more than 6 entries, all users paid for the subscription"
   ]
  },
  {
   "cell_type": "code",
   "execution_count": 401,
   "metadata": {},
   "outputs": [
    {
     "data": {
      "text/plain": [
       "14"
      ]
     },
     "execution_count": 401,
     "metadata": {},
     "output_type": "execute_result"
    }
   ],
   "source": [
    "# uk_limited_companies always bought the subscription above 6 entries a week\n",
    "len(df.loc[(df['weekly entries'] ==6) & (df['subscribed_after_free_trial'] == True) & (df['company_type'] == 'uk_limited_company')])"
   ]
  },
  {
   "cell_type": "code",
   "execution_count": 402,
   "metadata": {},
   "outputs": [
    {
     "data": {
      "text/plain": [
       "0"
      ]
     },
     "execution_count": 402,
     "metadata": {},
     "output_type": "execute_result"
    }
   ],
   "source": [
    "# universal companies \n",
    "len(df.loc[(df['weekly entries'] ==6) & (df['subscribed_after_free_trial'] == True) & (df['company_type'] == 'universal_company')])"
   ]
  },
  {
   "cell_type": "code",
   "execution_count": 403,
   "metadata": {},
   "outputs": [
    {
     "data": {
      "text/plain": [
       "2"
      ]
     },
     "execution_count": 403,
     "metadata": {},
     "output_type": "execute_result"
    }
   ],
   "source": [
    "\n",
    "len(df.loc[(df['weekly entries'] ==6) & (df['subscribed_after_free_trial'] == True) & (df['company_type'] == 'uk_sole_trader')])"
   ]
  },
  {
   "cell_type": "code",
   "execution_count": 461,
   "metadata": {},
   "outputs": [
    {
     "data": {
      "text/plain": [
       "803"
      ]
     },
     "execution_count": 461,
     "metadata": {},
     "output_type": "execute_result"
    }
   ],
   "source": [
    "len(df.loc[(df['weekly entries'] < 6)])"
   ]
  },
  {
   "cell_type": "code",
   "execution_count": 460,
   "metadata": {},
   "outputs": [
    {
     "data": {
      "text/plain": [
       "20"
      ]
     },
     "execution_count": 460,
     "metadata": {},
     "output_type": "execute_result"
    }
   ],
   "source": [
    "\n",
    "len(df.loc[(df['weekly entries'] < 6) & (df['subscribed_after_free_trial'] == True) ])"
   ]
  },
  {
   "cell_type": "markdown",
   "metadata": {},
   "source": [
    "## Model"
   ]
  },
  {
   "cell_type": "code",
   "execution_count": 404,
   "metadata": {},
   "outputs": [],
   "source": [
    "from sklearn.datasets import load_iris\n",
    "from sklearn.linear_model import LogisticRegression\n",
    "\n",
    "from sklearn import model_selection, naive_bayes, svm\n",
    "from sklearn.linear_model import LinearRegression"
   ]
  },
  {
   "cell_type": "code",
   "execution_count": 405,
   "metadata": {},
   "outputs": [],
   "source": [
    "from sklearn.utils import shuffle\n",
    "df_model = shuffle(df)"
   ]
  },
  {
   "cell_type": "code",
   "execution_count": 406,
   "metadata": {},
   "outputs": [],
   "source": [
    "df_model['subscribed_after_free_trial'] = df_model['subscribed_after_free_trial'].apply(lambda x: 1 if x == True else 0)"
   ]
  },
  {
   "cell_type": "code",
   "execution_count": 407,
   "metadata": {},
   "outputs": [],
   "source": [
    "X = df_model['weekly entries']\n",
    "y = df_model['subscribed_after_free_trial']\n"
   ]
  },
  {
   "cell_type": "code",
   "execution_count": 408,
   "metadata": {},
   "outputs": [],
   "source": [
    "X = np.array(X)\n",
    "X = X.reshape(-1, 1)"
   ]
  },
  {
   "cell_type": "code",
   "execution_count": 409,
   "metadata": {},
   "outputs": [],
   "source": [
    "X_train, X_test, y_train, y_test = train_test_split(X, y, test_size=0.33, random_state=42)"
   ]
  },
  {
   "cell_type": "code",
   "execution_count": null,
   "metadata": {},
   "outputs": [],
   "source": []
  },
  {
   "cell_type": "code",
   "execution_count": null,
   "metadata": {},
   "outputs": [],
   "source": []
  },
  {
   "cell_type": "code",
   "execution_count": 425,
   "metadata": {},
   "outputs": [
    {
     "name": "stdout",
     "output_type": "stream",
     "text": [
      "Logistic Regression Classifier Accuracy: \n",
      "5-fold cross validation average:  0.9726202067122429\n",
      "Highest accuracy:  0.9842105263157894\n"
     ]
    }
   ],
   "source": [
    "logreg = LogisticRegression()\n",
    "score_logreg1 = cross_val_score(logreg, X, y, cv=5)\n",
    "\n",
    "print(\"Logistic Regression Classifier Accuracy: \")\n",
    "print(\"5-fold cross validation average: \", score_logreg1.mean())\n",
    "print(\"Highest accuracy: \", score_logreg1.max())"
   ]
  },
  {
   "cell_type": "code",
   "execution_count": null,
   "metadata": {},
   "outputs": [],
   "source": []
  },
  {
   "cell_type": "code",
   "execution_count": 426,
   "metadata": {},
   "outputs": [
    {
     "name": "stdout",
     "output_type": "stream",
     "text": [
      "Linear Regression Classifier Accuracy: \n",
      "5-fold cross validation average:  0.7373162280261513\n",
      "Highest accuracy:  0.7668831901521169\n"
     ]
    }
   ],
   "source": [
    "linreg = LinearRegression()\n",
    "score_linear = cross_val_score(linreg, X, y, cv=5)\n",
    "\n",
    "print(\"Linear Regression Classifier Accuracy: \")\n",
    "print(\"5-fold cross validation average: \", score_linear.mean())\n",
    "print(\"Highest accuracy: \", score_linear.max())"
   ]
  },
  {
   "cell_type": "code",
   "execution_count": null,
   "metadata": {},
   "outputs": [],
   "source": []
  },
  {
   "cell_type": "code",
   "execution_count": 429,
   "metadata": {},
   "outputs": [
    {
     "name": "stdout",
     "output_type": "stream",
     "text": [
      "Stochastic Gradient Descent Classifier Accuracy: \n",
      "5-fold cross validation average:  0.9736894884097971\n",
      "Highest accuracy:  0.9842105263157894\n"
     ]
    }
   ],
   "source": [
    "SGD = linear_model.SGDClassifier()\n",
    "a = cross_val_score(SGD, X, y, cv=5)\n",
    "\n",
    "print(\"Stochastic Gradient Descent Classifier Accuracy: \")\n",
    "print(\"5-fold cross validation average: \", a.mean())\n",
    "print(\"Highest accuracy: \", a.max())"
   ]
  },
  {
   "cell_type": "markdown",
   "metadata": {},
   "source": [
    "# 2nd model with matching the company type"
   ]
  },
  {
   "cell_type": "code",
   "execution_count": 430,
   "metadata": {},
   "outputs": [],
   "source": [
    "from sklearn.utils import shuffle\n",
    "df_model2 = shuffle(df)"
   ]
  },
  {
   "cell_type": "code",
   "execution_count": 431,
   "metadata": {},
   "outputs": [],
   "source": [
    "df_model2['subscribed_after_free_trial'] = df_model2['subscribed_after_free_trial'].apply(lambda x: 1 if x == True else 0)\n"
   ]
  },
  {
   "cell_type": "code",
   "execution_count": 432,
   "metadata": {},
   "outputs": [],
   "source": [
    "mymap = {'uk_limited_company':1, 'uk_sole_trader':2, 'universal_company':3}\n",
    "df_model2 = df_model2.applymap(lambda s: mymap.get(s) if s in mymap else s)"
   ]
  },
  {
   "cell_type": "code",
   "execution_count": 433,
   "metadata": {},
   "outputs": [
    {
     "data": {
      "text/html": [
       "<div>\n",
       "<style scoped>\n",
       "    .dataframe tbody tr th:only-of-type {\n",
       "        vertical-align: middle;\n",
       "    }\n",
       "\n",
       "    .dataframe tbody tr th {\n",
       "        vertical-align: top;\n",
       "    }\n",
       "\n",
       "    .dataframe thead th {\n",
       "        text-align: right;\n",
       "    }\n",
       "</style>\n",
       "<table border=\"1\" class=\"dataframe\">\n",
       "  <thead>\n",
       "    <tr style=\"text-align: right;\">\n",
       "      <th></th>\n",
       "      <th>company</th>\n",
       "      <th>company_type</th>\n",
       "      <th>subscribed_after_free_trial</th>\n",
       "      <th>weekly entries</th>\n",
       "    </tr>\n",
       "  </thead>\n",
       "  <tbody>\n",
       "    <tr>\n",
       "      <td>372</td>\n",
       "      <td>347154</td>\n",
       "      <td>1</td>\n",
       "      <td>0</td>\n",
       "      <td>0</td>\n",
       "    </tr>\n",
       "    <tr>\n",
       "      <td>580</td>\n",
       "      <td>347362</td>\n",
       "      <td>2</td>\n",
       "      <td>1</td>\n",
       "      <td>8</td>\n",
       "    </tr>\n",
       "    <tr>\n",
       "      <td>51</td>\n",
       "      <td>346833</td>\n",
       "      <td>1</td>\n",
       "      <td>0</td>\n",
       "      <td>1</td>\n",
       "    </tr>\n",
       "    <tr>\n",
       "      <td>443</td>\n",
       "      <td>347225</td>\n",
       "      <td>1</td>\n",
       "      <td>0</td>\n",
       "      <td>3</td>\n",
       "    </tr>\n",
       "    <tr>\n",
       "      <td>293</td>\n",
       "      <td>347075</td>\n",
       "      <td>1</td>\n",
       "      <td>0</td>\n",
       "      <td>1</td>\n",
       "    </tr>\n",
       "  </tbody>\n",
       "</table>\n",
       "</div>"
      ],
      "text/plain": [
       "     company  company_type  subscribed_after_free_trial  weekly entries\n",
       "372   347154             1                            0               0\n",
       "580   347362             2                            1               8\n",
       "51    346833             1                            0               1\n",
       "443   347225             1                            0               3\n",
       "293   347075             1                            0               1"
      ]
     },
     "execution_count": 433,
     "metadata": {},
     "output_type": "execute_result"
    }
   ],
   "source": [
    "df_model2.head()"
   ]
  },
  {
   "cell_type": "code",
   "execution_count": 441,
   "metadata": {},
   "outputs": [],
   "source": [
    "X2 = df_model2[[ 'company_type', 'weekly entries']]\n",
    "y2 = df_model2['subscribed_after_free_trial']\n"
   ]
  },
  {
   "cell_type": "code",
   "execution_count": null,
   "metadata": {},
   "outputs": [],
   "source": []
  },
  {
   "cell_type": "code",
   "execution_count": 442,
   "metadata": {},
   "outputs": [
    {
     "name": "stdout",
     "output_type": "stream",
     "text": [
      "Logistic Regression Classifier Accuracy: \n",
      "5-fold cross validation average:  0.9747476311488436\n",
      "Highest accuracy:  0.9842105263157894\n"
     ]
    }
   ],
   "source": [
    "logreg = LogisticRegression()\n",
    "score_logreg2 = cross_val_score(logreg, X2, y2, cv=5)\n",
    "\n",
    "print(\"Logistic Regression Classifier Accuracy: \")\n",
    "print(\"5-fold cross validation average: \", score_logreg2.mean())\n",
    "print(\"Highest accuracy: \", score_logreg2.max())"
   ]
  },
  {
   "cell_type": "code",
   "execution_count": 443,
   "metadata": {},
   "outputs": [
    {
     "name": "stdout",
     "output_type": "stream",
     "text": [
      "Linear Regression Classifier Accuracy: \n",
      "5-fold cross validation average:  0.7447233948888987\n",
      "Highest accuracy:  0.7699231517743009\n"
     ]
    }
   ],
   "source": [
    "reg = LinearRegression()\n",
    "score_linear2 = cross_val_score(reg, X2, y2, cv=5)\n",
    "\n",
    "print(\"Linear Regression Classifier Accuracy: \")\n",
    "print(\"5-fold cross validation average: \", score_linear2.mean())\n",
    "print(\"Highest accuracy: \", score_linear2.max())"
   ]
  },
  {
   "cell_type": "code",
   "execution_count": 444,
   "metadata": {},
   "outputs": [
    {
     "name": "stdout",
     "output_type": "stream",
     "text": [
      "Stochastic Gradient Descent Classifier Accuracy: \n",
      "5-fold cross validation average:  0.9737005690491498\n",
      "Highest accuracy:  0.9842105263157894\n"
     ]
    }
   ],
   "source": [
    "SGD = linear_model.SGDClassifier()\n",
    "score_SGD2 = cross_val_score(SGD, X2, y2, cv=5)\n",
    "\n",
    "print(\"Stochastic Gradient Descent Classifier Accuracy: \")\n",
    "print(\"5-fold cross validation average: \", score_SGD2.mean())\n",
    "print(\"Highest accuracy: \", score_SGD2.max())"
   ]
  },
  {
   "cell_type": "code",
   "execution_count": null,
   "metadata": {},
   "outputs": [],
   "source": []
  },
  {
   "cell_type": "code",
   "execution_count": null,
   "metadata": {},
   "outputs": [],
   "source": []
  }
 ],
 "metadata": {
  "kernelspec": {
   "display_name": "Python 3",
   "language": "python",
   "name": "python3"
  },
  "language_info": {
   "codemirror_mode": {
    "name": "ipython",
    "version": 3
   },
   "file_extension": ".py",
   "mimetype": "text/x-python",
   "name": "python",
   "nbconvert_exporter": "python",
   "pygments_lexer": "ipython3",
   "version": "3.7.4"
  }
 },
 "nbformat": 4,
 "nbformat_minor": 4
}
